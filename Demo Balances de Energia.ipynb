{
 "cells": [
  {
   "cell_type": "markdown",
   "id": "8da043fb-5053-45c8-95c8-0247c52efc99",
   "metadata": {},
   "source": [
    "\n",
    "# <font color='red'>**Demo del Pipeline de Cálculo Automático de BALANCES DE ENERGÍA EONTEC**</font>\n",
    "\n",
    "## 1. Introduccion\n",
    "\n",
    "Este demo realiza el Cálculo de Los balances de Energía con un programa de despachos y la información real de despacho de los generadores, la primera se obtiene de XM el ente regulador del mercado de energía de Colombia y el segundo, de los reportes periódicos que saca el generador, generalmente son diarios.\n",
    "\n",
    "Tambien se obtiene la diferencia del ***plan vs lo real***, y el valor de la energía generada ***real, vs la remanente*** que hace falta, y que hay que cubrir con contratos de energía. \n",
    "\n",
    "***\"Si me sobra vendo la Energía, si me falta, la tengo que comprar\"***\n",
    "\n",
    "### Pasos\n",
    "\n",
    "### 1. Fuentes (Extract) \n",
    "\n",
    "\n",
    "En este proceso la **ETL** se encargará de extraer la información de las siguientes fuentes:\n",
    "\n",
    "- Descarga Archivo de despacho horario de las centrales de energia consolidado\n",
    "- Consumo de API de despacho programado para la fecha del ente regulador.\n",
    "- Consumo de API de Precio de la energia por kWh para el día asignado\n",
    "\n",
    "### 2. Transformaciones (Transform)\n",
    "\n",
    "Los archivos obtenidos se transformarán a un formato manejable, se realizarán cruces entre los data sets y filtros\n",
    "\n",
    "- Cambio de formato de Excel a DataFrame\n",
    "- Cambio de formato de JSON a DataFrame\n",
    "- Agregación, cálculos de los balances por unidad de generación (por planta)\n",
    "- Identificación de operación: Compra o Venta.\n",
    "\n",
    "### 3. Transferencias o Cargas (Load)\n",
    "\n",
    "Finalmente se depositará o la disponibilizará para descarga en un destino para que los analistas o el regulador la usen.\n",
    "\n",
    "- Carga por web a Bucket o Carpeta en la nube del regulador"
   ]
  },
  {
   "cell_type": "markdown",
   "id": "16697b67-8974-4a4f-86e2-e15048c34424",
   "metadata": {},
   "source": [
    "## Preparación de Paquetes\n",
    "\n",
    "En esta sección se instalan los paquetes, librerías y componentes que le permitirán al pipeline realizar sus procesos internos."
   ]
  },
  {
   "cell_type": "code",
   "execution_count": 61,
   "id": "a4efdd4b-9558-45be-a477-c1180ef5eb8d",
   "metadata": {},
   "outputs": [],
   "source": [
    "import numpy as np\n",
    "import pandas as pd\n",
    "import openpyxl\n",
    "import requests\n",
    "import json\n",
    "import os"
   ]
  },
  {
   "cell_type": "markdown",
   "id": "5cd1ea32-4f5c-4d89-b494-303e02585488",
   "metadata": {},
   "source": [
    "## Declaracion de Variables\n",
    "\n",
    "Definimos las variables como fecha de inicio y final para realizar el Balance y también el ID para obtener el archivo de despacho. Las variables son:\n",
    "\n",
    "- **fecha_inicio:** Fecha de inicio del balance\n",
    "- **fecha_fin:** Fecha fin del balance\n",
    "- **id_archivo_balance_drive:** Id del archivo publico de despacho de generacion\n",
    "\n",
    "  **Nota:** la fecha de inicio y la final deben coincidir con la fecha de la generación de energía.\n"
   ]
  },
  {
   "cell_type": "code",
   "execution_count": 62,
   "id": "dc37f355-1f07-4b0d-9573-a1243cf82fa2",
   "metadata": {},
   "outputs": [],
   "source": [
    "# Define las fechas de inicio y fin\n",
    "fecha_inicio=\"2024-07-10\"\n",
    "fecha_fin=\"2024-07-10\"\n",
    "id_archivo_balance_drive=\"1kXBIgeXQzM6i1slWQE0vuiPsdgFCSUy2\"\n",
    "api_key_1=\"r2sbIojfgWlKMJTNBTXw42yDAVYKDspgJnJiP0c3MrCBeTEYv6DfQGjmUjmrPLoC\"\n",
    "api_key_2=\"YEjIQuxqHPxUqMdWs0cPcga4mBALFWBdWQmOzG6usqO6PuUBl30VXektDO378YlJ\""
   ]
  },
  {
   "cell_type": "markdown",
   "id": "2eae9887-75f8-4f9c-b8b1-14c7c31b8a2e",
   "metadata": {},
   "source": [
    "### A. PRECIOS DE ENERGÍA"
   ]
  },
  {
   "cell_type": "markdown",
   "id": "1be338fe-c6e8-4fbc-b589-d71d7f25924d",
   "metadata": {},
   "source": [
    "Descargamos el API de los **Precios de Energía** estos datos están en formato JSON. Utilizamos la librería de Python llamada Requests y con ella obtenemos el api de la URL, y almacenamos el resultado en una estructura de datos denominada dataframe."
   ]
  },
  {
   "cell_type": "markdown",
   "id": "f4d19632-202b-406f-86a0-d6fb94c27330",
   "metadata": {},
   "source": [
    "### (E) Extraccion "
   ]
  },
  {
   "cell_type": "code",
   "execution_count": 63,
   "id": "b97ce13c-182d-4a20-816f-ee657b056e91",
   "metadata": {},
   "outputs": [
    {
     "name": "stdout",
     "output_type": "stream",
     "text": [
      "Codigo de Respuesta:  <Response [200]>\n"
     ]
    }
   ],
   "source": [
    "# (E) Extraccion del API de Precios de la Energía\n",
    "url = f\"https://www.simem.co/backend-files/api/PublicData?startDate={fecha_inicio}&endDate={fecha_fin}&datasetId=96D56E\"\n",
    "\n",
    "# Realizar la solicitud HTTP, para recibir los datos del sitios web\n",
    "response = requests.get(url)\n",
    "\n",
    "# Mostrar el tipo de respuesta de la solicitud HTTP\n",
    "print(\"Codigo de Respuesta: \",response)"
   ]
  },
  {
   "cell_type": "code",
   "execution_count": 25,
   "id": "1f32f2ac-1577-4728-b6e3-9f37555ced4e",
   "metadata": {},
   "outputs": [
    {
     "name": "stdout",
     "output_type": "stream",
     "text": [
      "[{'CodigoVariable': 'PPBO', 'Fecha': '2024-07-10', 'CodigoDuracion': 'P1D', 'UnidadMedida': 'COP/kWh', 'Version': 'TX2', 'Valor': 202.4419}, {'CodigoVariable': 'PPBOGReal', 'Fecha': '2024-07-10', 'CodigoDuracion': 'P1D', 'UnidadMedida': 'COP/kWh', 'Version': 'TX2', 'Valor': 213.6887}, {'CodigoVariable': 'PPBO', 'Fecha': '2024-07-10', 'CodigoDuracion': 'P1D', 'UnidadMedida': 'COP/kWh', 'Version': 'TXF', 'Valor': 208.5071}, {'CodigoVariable': 'PPBOGReal', 'Fecha': '2024-07-10', 'CodigoDuracion': 'P1D', 'UnidadMedida': 'COP/kWh', 'Version': 'TXF', 'Valor': 219.7575}, {'CodigoVariable': 'PPBO', 'Fecha': '2024-07-10', 'CodigoDuracion': 'P1D', 'UnidadMedida': 'COP/kWh', 'Version': 'TXR', 'Valor': 208.5051}, {'CodigoVariable': 'PPBOGReal', 'Fecha': '2024-07-10', 'CodigoDuracion': 'P1D', 'UnidadMedida': 'COP/kWh', 'Version': 'TXR', 'Valor': 219.7562}, {'CodigoVariable': 'PPBOGReal', 'Fecha': '2024-07-10', 'CodigoDuracion': 'P1D', 'UnidadMedida': 'COP/kWh', 'Version': 'TX1', 'Valor': 213.6898}]\n"
     ]
    }
   ],
   "source": [
    "# Mostrar el contenido de Json en los atributos de result y records\n",
    "print(response.json()['result']['records'])"
   ]
  },
  {
   "cell_type": "markdown",
   "id": "0d457081-d01d-48b2-8739-dd8d0226975b",
   "metadata": {},
   "source": [
    "### (T) Transformación"
   ]
  },
  {
   "cell_type": "code",
   "execution_count": 26,
   "id": "6bf14e86-a46c-49a0-ad35-7e15431c89d7",
   "metadata": {},
   "outputs": [
    {
     "data": {
      "text/html": [
       "<div>\n",
       "<style scoped>\n",
       "    .dataframe tbody tr th:only-of-type {\n",
       "        vertical-align: middle;\n",
       "    }\n",
       "\n",
       "    .dataframe tbody tr th {\n",
       "        vertical-align: top;\n",
       "    }\n",
       "\n",
       "    .dataframe thead th {\n",
       "        text-align: right;\n",
       "    }\n",
       "</style>\n",
       "<table border=\"1\" class=\"dataframe\">\n",
       "  <thead>\n",
       "    <tr style=\"text-align: right;\">\n",
       "      <th></th>\n",
       "      <th>CodigoVariable</th>\n",
       "      <th>Fecha</th>\n",
       "      <th>CodigoDuracion</th>\n",
       "      <th>UnidadMedida</th>\n",
       "      <th>Version</th>\n",
       "      <th>Valor</th>\n",
       "    </tr>\n",
       "  </thead>\n",
       "  <tbody>\n",
       "    <tr>\n",
       "      <th>0</th>\n",
       "      <td>PPBO</td>\n",
       "      <td>2024-07-10</td>\n",
       "      <td>P1D</td>\n",
       "      <td>COP/kWh</td>\n",
       "      <td>TX2</td>\n",
       "      <td>202.4419</td>\n",
       "    </tr>\n",
       "    <tr>\n",
       "      <th>1</th>\n",
       "      <td>PPBOGReal</td>\n",
       "      <td>2024-07-10</td>\n",
       "      <td>P1D</td>\n",
       "      <td>COP/kWh</td>\n",
       "      <td>TX2</td>\n",
       "      <td>213.6887</td>\n",
       "    </tr>\n",
       "    <tr>\n",
       "      <th>2</th>\n",
       "      <td>PPBO</td>\n",
       "      <td>2024-07-10</td>\n",
       "      <td>P1D</td>\n",
       "      <td>COP/kWh</td>\n",
       "      <td>TXF</td>\n",
       "      <td>208.5071</td>\n",
       "    </tr>\n",
       "    <tr>\n",
       "      <th>3</th>\n",
       "      <td>PPBOGReal</td>\n",
       "      <td>2024-07-10</td>\n",
       "      <td>P1D</td>\n",
       "      <td>COP/kWh</td>\n",
       "      <td>TXF</td>\n",
       "      <td>219.7575</td>\n",
       "    </tr>\n",
       "    <tr>\n",
       "      <th>4</th>\n",
       "      <td>PPBO</td>\n",
       "      <td>2024-07-10</td>\n",
       "      <td>P1D</td>\n",
       "      <td>COP/kWh</td>\n",
       "      <td>TXR</td>\n",
       "      <td>208.5051</td>\n",
       "    </tr>\n",
       "  </tbody>\n",
       "</table>\n",
       "</div>"
      ],
      "text/plain": [
       "  CodigoVariable       Fecha CodigoDuracion UnidadMedida Version     Valor\n",
       "0           PPBO  2024-07-10            P1D      COP/kWh     TX2  202.4419\n",
       "1      PPBOGReal  2024-07-10            P1D      COP/kWh     TX2  213.6887\n",
       "2           PPBO  2024-07-10            P1D      COP/kWh     TXF  208.5071\n",
       "3      PPBOGReal  2024-07-10            P1D      COP/kWh     TXF  219.7575\n",
       "4           PPBO  2024-07-10            P1D      COP/kWh     TXR  208.5051"
      ]
     },
     "execution_count": 26,
     "metadata": {},
     "output_type": "execute_result"
    }
   ],
   "source": [
    "# Convertir el JSON en un DataFrame\n",
    "dfPreciosBolsa = pd.json_normalize(response.json()['result']['records'])\n",
    "\n",
    "# Mostrar el DataFrame PreciosBolsa\n",
    "dfPreciosBolsa.head()"
   ]
  },
  {
   "cell_type": "markdown",
   "id": "a9ef0aef-fc86-4dc5-b3a5-eff58e16ac61",
   "metadata": {},
   "source": [
    "### B. DESPACHO  DE ENERGÍA POR UNIDAD Y CENTRAL."
   ]
  },
  {
   "cell_type": "markdown",
   "id": "41b54083-8125-43dc-942b-ef94cda2cf18",
   "metadata": {},
   "source": [
    "Descargamos el API de los datos de **despacho de Energía** en formato JSON, utilizamos la librería de Python llamada Requests y con ella obtenemos el api de la URL, y almacenamos el resultado en una estructura de datos denominada dataframe."
   ]
  },
  {
   "cell_type": "markdown",
   "id": "0ba35fbe-f0e4-4a03-980a-52454c75e2de",
   "metadata": {},
   "source": [
    "### (E) Extraccion "
   ]
  },
  {
   "cell_type": "code",
   "execution_count": 64,
   "id": "5b2d1ad2-d34f-4232-97b4-1d238c3b5bfb",
   "metadata": {},
   "outputs": [
    {
     "name": "stdout",
     "output_type": "stream",
     "text": [
      "<Response [200]>\n"
     ]
    }
   ],
   "source": [
    "# (E) Extraccion del Plan de Despacho de Energía por Unidad y Central\n",
    "url = f\"https://www.simem.co/backend-files/api/PublicData?startdate={fecha_inicio}&enddate={fecha_fin}&datasetId=ff027b\"\n",
    "\n",
    "# Realiza la solicitud GET\n",
    "response = requests.get(url)\n",
    "\n",
    "# Mostrar el tipo de respuesta de la solicitud HTTP\n",
    "print(response)"
   ]
  },
  {
   "cell_type": "markdown",
   "id": "f10c3c6a-b0fe-4f4e-bd11-a11a1da40c4f",
   "metadata": {},
   "source": [
    "### (T) Transformación"
   ]
  },
  {
   "cell_type": "code",
   "execution_count": 65,
   "id": "d9331fab-0c78-4174-b60e-125faa99a7b8",
   "metadata": {},
   "outputs": [
    {
     "data": {
      "text/html": [
       "<div>\n",
       "<style scoped>\n",
       "    .dataframe tbody tr th:only-of-type {\n",
       "        vertical-align: middle;\n",
       "    }\n",
       "\n",
       "    .dataframe tbody tr th {\n",
       "        vertical-align: top;\n",
       "    }\n",
       "\n",
       "    .dataframe thead th {\n",
       "        text-align: right;\n",
       "    }\n",
       "</style>\n",
       "<table border=\"1\" class=\"dataframe\">\n",
       "  <thead>\n",
       "    <tr style=\"text-align: right;\">\n",
       "      <th></th>\n",
       "      <th>codigo</th>\n",
       "      <th>anio_despacho</th>\n",
       "      <th>mes_despacho</th>\n",
       "      <th>dia_despacho</th>\n",
       "      <th>hora_despacho</th>\n",
       "      <th>capacidad</th>\n",
       "    </tr>\n",
       "  </thead>\n",
       "  <tbody>\n",
       "    <tr>\n",
       "      <th>173</th>\n",
       "      <td>CHVR</td>\n",
       "      <td>2024</td>\n",
       "      <td>7</td>\n",
       "      <td>10</td>\n",
       "      <td>0</td>\n",
       "      <td>0</td>\n",
       "    </tr>\n",
       "    <tr>\n",
       "      <th>204</th>\n",
       "      <td>GVIO</td>\n",
       "      <td>2024</td>\n",
       "      <td>7</td>\n",
       "      <td>10</td>\n",
       "      <td>0</td>\n",
       "      <td>60000</td>\n",
       "    </tr>\n",
       "    <tr>\n",
       "      <th>260</th>\n",
       "      <td>QUI1</td>\n",
       "      <td>2024</td>\n",
       "      <td>7</td>\n",
       "      <td>10</td>\n",
       "      <td>0</td>\n",
       "      <td>78000</td>\n",
       "    </tr>\n",
       "    <tr>\n",
       "      <th>328</th>\n",
       "      <td>ZPA2</td>\n",
       "      <td>2024</td>\n",
       "      <td>7</td>\n",
       "      <td>10</td>\n",
       "      <td>0</td>\n",
       "      <td>17000</td>\n",
       "    </tr>\n",
       "    <tr>\n",
       "      <th>329</th>\n",
       "      <td>ZPA3</td>\n",
       "      <td>2024</td>\n",
       "      <td>7</td>\n",
       "      <td>10</td>\n",
       "      <td>0</td>\n",
       "      <td>31000</td>\n",
       "    </tr>\n",
       "  </tbody>\n",
       "</table>\n",
       "</div>"
      ],
      "text/plain": [
       "    codigo  anio_despacho  mes_despacho  dia_despacho  hora_despacho  \\\n",
       "173   CHVR           2024             7            10              0   \n",
       "204   GVIO           2024             7            10              0   \n",
       "260   QUI1           2024             7            10              0   \n",
       "328   ZPA2           2024             7            10              0   \n",
       "329   ZPA3           2024             7            10              0   \n",
       "\n",
       "     capacidad  \n",
       "173          0  \n",
       "204      60000  \n",
       "260      78000  \n",
       "328      17000  \n",
       "329      31000  "
      ]
     },
     "execution_count": 65,
     "metadata": {},
     "output_type": "execute_result"
    }
   ],
   "source": [
    "# Convierte la respuesta JSON en un DataFrame de Pandas\n",
    "df_Despachos_Acme = pd.json_normalize(response.json()['result']['records'])\n",
    "\n",
    "# Renombramos los atributos de Valor y Codigo Planta\n",
    "df_Despachos_Acme = df_Despachos_Acme.rename(columns={\n",
    "    'Valor': 'capacidad',\n",
    "    'CodigoPlanta': 'codigo'\n",
    "})\n",
    "\n",
    "# Convertimos la columna 'FechaHora' a formato datetime\n",
    "df_Despachos_Acme['FechaHora'] = pd.to_datetime(df_Despachos_Acme['FechaHora'])\n",
    "\n",
    "# Extraemos el día, mes, año y hora de la columna 'FechaHora'\n",
    "df_Despachos_Acme['dia_despacho'] = df_Despachos_Acme['FechaHora'].dt.day\n",
    "df_Despachos_Acme['mes_despacho'] = df_Despachos_Acme['FechaHora'].dt.month\n",
    "df_Despachos_Acme['anio_despacho'] = df_Despachos_Acme['FechaHora'].dt.year\n",
    "df_Despachos_Acme['hora_despacho'] = df_Despachos_Acme['FechaHora'].dt.hour\n",
    "\n",
    "# Filtrar el DataFrame según las condiciones especificadas\n",
    "df_Despachos_Acme = df_Despachos_Acme[df_Despachos_Acme['codigo'].isin(['ZPA2', 'ZPA3', 'ZPA4', 'ZPA5', 'GVIO', 'QUI1', 'CHVR'])]\n",
    "\n",
    "# Seleccionamos las columnas necesarias\n",
    "df_Despachos_Acme = df_Despachos_Acme[['codigo', 'anio_despacho', 'mes_despacho', 'dia_despacho', 'hora_despacho', 'capacidad']]\n",
    "df_Despachos_Acme['capacidad'] = df_Despachos_Acme['capacidad'].astype('int64')\n",
    "\n",
    "# Mostramos el contenido del dataframe Despachos_Acme\n",
    "df_Despachos_Acme.head()"
   ]
  },
  {
   "cell_type": "code",
   "execution_count": 29,
   "id": "747f7230-d41f-4529-970a-524e1ca86294",
   "metadata": {},
   "outputs": [
    {
     "data": {
      "text/html": [
       "<div>\n",
       "<style scoped>\n",
       "    .dataframe tbody tr th:only-of-type {\n",
       "        vertical-align: middle;\n",
       "    }\n",
       "\n",
       "    .dataframe tbody tr th {\n",
       "        vertical-align: top;\n",
       "    }\n",
       "\n",
       "    .dataframe thead th {\n",
       "        text-align: right;\n",
       "    }\n",
       "</style>\n",
       "<table border=\"1\" class=\"dataframe\">\n",
       "  <thead>\n",
       "    <tr style=\"text-align: right;\">\n",
       "      <th></th>\n",
       "      <th>codigo</th>\n",
       "      <th>anio_despacho</th>\n",
       "      <th>mes_despacho</th>\n",
       "      <th>dia_despacho</th>\n",
       "      <th>hora_despacho</th>\n",
       "      <th>capacidad</th>\n",
       "    </tr>\n",
       "  </thead>\n",
       "  <tbody>\n",
       "    <tr>\n",
       "      <th>0</th>\n",
       "      <td>CHVR</td>\n",
       "      <td>2024</td>\n",
       "      <td>7</td>\n",
       "      <td>10</td>\n",
       "      <td>0</td>\n",
       "      <td>0</td>\n",
       "    </tr>\n",
       "    <tr>\n",
       "      <th>1</th>\n",
       "      <td>GVIO</td>\n",
       "      <td>2024</td>\n",
       "      <td>7</td>\n",
       "      <td>10</td>\n",
       "      <td>0</td>\n",
       "      <td>60000</td>\n",
       "    </tr>\n",
       "    <tr>\n",
       "      <th>2</th>\n",
       "      <td>QUI1</td>\n",
       "      <td>2024</td>\n",
       "      <td>7</td>\n",
       "      <td>10</td>\n",
       "      <td>0</td>\n",
       "      <td>78000</td>\n",
       "    </tr>\n",
       "    <tr>\n",
       "      <th>3</th>\n",
       "      <td>ZPA2</td>\n",
       "      <td>2024</td>\n",
       "      <td>7</td>\n",
       "      <td>10</td>\n",
       "      <td>0</td>\n",
       "      <td>17000</td>\n",
       "    </tr>\n",
       "    <tr>\n",
       "      <th>4</th>\n",
       "      <td>ZPA3</td>\n",
       "      <td>2024</td>\n",
       "      <td>7</td>\n",
       "      <td>10</td>\n",
       "      <td>0</td>\n",
       "      <td>31000</td>\n",
       "    </tr>\n",
       "  </tbody>\n",
       "</table>\n",
       "</div>"
      ],
      "text/plain": [
       "  codigo  anio_despacho  mes_despacho  dia_despacho  hora_despacho  capacidad\n",
       "0   CHVR           2024             7            10              0          0\n",
       "1   GVIO           2024             7            10              0      60000\n",
       "2   QUI1           2024             7            10              0      78000\n",
       "3   ZPA2           2024             7            10              0      17000\n",
       "4   ZPA3           2024             7            10              0      31000"
      ]
     },
     "execution_count": 29,
     "metadata": {},
     "output_type": "execute_result"
    }
   ],
   "source": [
    "# reset_index\n",
    "df_Despachos_Acme = df_Despachos_Acme.reset_index(drop=True)\n",
    "\n",
    "# Mostramos el contenido del dataframe Despachos_Acme\n",
    "df_Despachos_Acme.head()"
   ]
  },
  {
   "cell_type": "markdown",
   "id": "ae1fa4f0-12cd-4888-be6d-5494627e7343",
   "metadata": {},
   "source": [
    "### C. GENERACIÓN DE ENERGÍA (CAPACIDAD)\n",
    "\n",
    "Descargamos de Google Drive el archivo de consolidado de generación, utilizamos Requests y con ella descargamos el archivo de la URL, en este caso tenemos que traer el archivo a una ubicación local, y posteriormente lo cargamos con Pandas."
   ]
  },
  {
   "cell_type": "markdown",
   "id": "baeb73e7-f367-465f-991e-d42ebee784c6",
   "metadata": {},
   "source": [
    "### (E) Extraccion "
   ]
  },
  {
   "cell_type": "code",
   "execution_count": 66,
   "id": "72cce154-3209-4dc3-9994-86d5d285a28b",
   "metadata": {},
   "outputs": [
    {
     "name": "stdout",
     "output_type": "stream",
     "text": [
      "<Response [200]>\n"
     ]
    }
   ],
   "source": [
    "### (E) Descarga del archivo con nuestros datos reales de generación\n",
    "download_url = f'https://drive.google.com/uc?export=download&id={id_archivo_balance_drive}'\n",
    "\n",
    "# Realiza la solicitud GET para descargar el archivo\n",
    "response = requests.get(download_url)\n",
    "\n",
    "# Mostrar el tipo de respuesta de la solicitud HTTP\n",
    "print(response)"
   ]
  },
  {
   "cell_type": "markdown",
   "id": "8d4b8876-b6a4-4344-8562-772d356c2e11",
   "metadata": {},
   "source": [
    "### (T) Transformación"
   ]
  },
  {
   "cell_type": "code",
   "execution_count": 67,
   "id": "4cf0b2d9-b9f4-4ee4-8333-ce9ba7d41e7f",
   "metadata": {},
   "outputs": [
    {
     "data": {
      "text/html": [
       "<div>\n",
       "<style scoped>\n",
       "    .dataframe tbody tr th:only-of-type {\n",
       "        vertical-align: middle;\n",
       "    }\n",
       "\n",
       "    .dataframe tbody tr th {\n",
       "        vertical-align: top;\n",
       "    }\n",
       "\n",
       "    .dataframe thead th {\n",
       "        text-align: right;\n",
       "    }\n",
       "</style>\n",
       "<table border=\"1\" class=\"dataframe\">\n",
       "  <thead>\n",
       "    <tr style=\"text-align: right;\">\n",
       "      <th></th>\n",
       "      <th>Unnamed: 0</th>\n",
       "      <th>FECHA</th>\n",
       "      <th>PLANTA</th>\n",
       "      <th>GENERADOR</th>\n",
       "      <th>CAPACIDAD (Kwh)</th>\n",
       "      <th>CODIGO</th>\n",
       "    </tr>\n",
       "  </thead>\n",
       "  <tbody>\n",
       "    <tr>\n",
       "      <th>0</th>\n",
       "      <td>NaN</td>\n",
       "      <td>2024-07-10 00:00:00</td>\n",
       "      <td>TERMOZIPA</td>\n",
       "      <td>2</td>\n",
       "      <td>33000</td>\n",
       "      <td>ZPA2</td>\n",
       "    </tr>\n",
       "    <tr>\n",
       "      <th>1</th>\n",
       "      <td>NaN</td>\n",
       "      <td>2024-07-10 01:00:00</td>\n",
       "      <td>TERMOZIPA</td>\n",
       "      <td>2</td>\n",
       "      <td>33000</td>\n",
       "      <td>ZPA2</td>\n",
       "    </tr>\n",
       "    <tr>\n",
       "      <th>2</th>\n",
       "      <td>NaN</td>\n",
       "      <td>2024-07-10 02:00:00</td>\n",
       "      <td>TERMOZIPA</td>\n",
       "      <td>2</td>\n",
       "      <td>33000</td>\n",
       "      <td>ZPA2</td>\n",
       "    </tr>\n",
       "    <tr>\n",
       "      <th>3</th>\n",
       "      <td>NaN</td>\n",
       "      <td>2024-07-10 03:00:00</td>\n",
       "      <td>TERMOZIPA</td>\n",
       "      <td>2</td>\n",
       "      <td>33000</td>\n",
       "      <td>ZPA2</td>\n",
       "    </tr>\n",
       "    <tr>\n",
       "      <th>4</th>\n",
       "      <td>NaN</td>\n",
       "      <td>2024-07-10 04:00:00</td>\n",
       "      <td>TERMOZIPA</td>\n",
       "      <td>2</td>\n",
       "      <td>20834</td>\n",
       "      <td>ZPA2</td>\n",
       "    </tr>\n",
       "  </tbody>\n",
       "</table>\n",
       "</div>"
      ],
      "text/plain": [
       "   Unnamed: 0               FECHA     PLANTA  GENERADOR  CAPACIDAD (Kwh)  \\\n",
       "0         NaN 2024-07-10 00:00:00  TERMOZIPA          2            33000   \n",
       "1         NaN 2024-07-10 01:00:00  TERMOZIPA          2            33000   \n",
       "2         NaN 2024-07-10 02:00:00  TERMOZIPA          2            33000   \n",
       "3         NaN 2024-07-10 03:00:00  TERMOZIPA          2            33000   \n",
       "4         NaN 2024-07-10 04:00:00  TERMOZIPA          2            20834   \n",
       "\n",
       "  CODIGO  \n",
       "0   ZPA2  \n",
       "1   ZPA2  \n",
       "2   ZPA2  \n",
       "3   ZPA2  \n",
       "4   ZPA2  "
      ]
     },
     "execution_count": 67,
     "metadata": {},
     "output_type": "execute_result"
    }
   ],
   "source": [
    "# Ruta local donde se guardará el archivo descargado\n",
    "local_file_path = 'balances3.xlsx'\n",
    "\n",
    "# Guarda el contenido en un archivo local\n",
    "with open(local_file_path, 'wb') as file:\n",
    "    file.write(response.content)\n",
    "\n",
    "# Lee el archivo Excel en un DataFrame de Pandas\n",
    "ArchivoCapacidad = pd.read_excel(local_file_path, engine='openpyxl', header = 5)\n",
    "\n",
    "# Muestra el DataFrame ArchivoCapacidad\n",
    "ArchivoCapacidad.head()"
   ]
  },
  {
   "cell_type": "code",
   "execution_count": 68,
   "id": "2a200152-5cb2-444c-8eeb-1e85fc37eceb",
   "metadata": {},
   "outputs": [
    {
     "data": {
      "text/html": [
       "<div>\n",
       "<style scoped>\n",
       "    .dataframe tbody tr th:only-of-type {\n",
       "        vertical-align: middle;\n",
       "    }\n",
       "\n",
       "    .dataframe tbody tr th {\n",
       "        vertical-align: top;\n",
       "    }\n",
       "\n",
       "    .dataframe thead th {\n",
       "        text-align: right;\n",
       "    }\n",
       "</style>\n",
       "<table border=\"1\" class=\"dataframe\">\n",
       "  <thead>\n",
       "    <tr style=\"text-align: right;\">\n",
       "      <th></th>\n",
       "      <th>useless</th>\n",
       "      <th>fecha</th>\n",
       "      <th>planta</th>\n",
       "      <th>generador</th>\n",
       "      <th>capacidad</th>\n",
       "      <th>codigo</th>\n",
       "      <th>anio</th>\n",
       "      <th>mes</th>\n",
       "      <th>dia</th>\n",
       "      <th>hora</th>\n",
       "    </tr>\n",
       "  </thead>\n",
       "  <tbody>\n",
       "    <tr>\n",
       "      <th>0</th>\n",
       "      <td>NaN</td>\n",
       "      <td>2024-07-10 00:00:00</td>\n",
       "      <td>TERMOZIPA</td>\n",
       "      <td>2</td>\n",
       "      <td>33000</td>\n",
       "      <td>ZPA2</td>\n",
       "      <td>2024</td>\n",
       "      <td>7</td>\n",
       "      <td>10</td>\n",
       "      <td>0</td>\n",
       "    </tr>\n",
       "    <tr>\n",
       "      <th>1</th>\n",
       "      <td>NaN</td>\n",
       "      <td>2024-07-10 01:00:00</td>\n",
       "      <td>TERMOZIPA</td>\n",
       "      <td>2</td>\n",
       "      <td>33000</td>\n",
       "      <td>ZPA2</td>\n",
       "      <td>2024</td>\n",
       "      <td>7</td>\n",
       "      <td>10</td>\n",
       "      <td>1</td>\n",
       "    </tr>\n",
       "    <tr>\n",
       "      <th>2</th>\n",
       "      <td>NaN</td>\n",
       "      <td>2024-07-10 02:00:00</td>\n",
       "      <td>TERMOZIPA</td>\n",
       "      <td>2</td>\n",
       "      <td>33000</td>\n",
       "      <td>ZPA2</td>\n",
       "      <td>2024</td>\n",
       "      <td>7</td>\n",
       "      <td>10</td>\n",
       "      <td>2</td>\n",
       "    </tr>\n",
       "    <tr>\n",
       "      <th>3</th>\n",
       "      <td>NaN</td>\n",
       "      <td>2024-07-10 03:00:00</td>\n",
       "      <td>TERMOZIPA</td>\n",
       "      <td>2</td>\n",
       "      <td>33000</td>\n",
       "      <td>ZPA2</td>\n",
       "      <td>2024</td>\n",
       "      <td>7</td>\n",
       "      <td>10</td>\n",
       "      <td>3</td>\n",
       "    </tr>\n",
       "    <tr>\n",
       "      <th>4</th>\n",
       "      <td>NaN</td>\n",
       "      <td>2024-07-10 04:00:00</td>\n",
       "      <td>TERMOZIPA</td>\n",
       "      <td>2</td>\n",
       "      <td>20834</td>\n",
       "      <td>ZPA2</td>\n",
       "      <td>2024</td>\n",
       "      <td>7</td>\n",
       "      <td>10</td>\n",
       "      <td>4</td>\n",
       "    </tr>\n",
       "  </tbody>\n",
       "</table>\n",
       "</div>"
      ],
      "text/plain": [
       "   useless               fecha     planta  generador  capacidad codigo  anio  \\\n",
       "0      NaN 2024-07-10 00:00:00  TERMOZIPA          2      33000   ZPA2  2024   \n",
       "1      NaN 2024-07-10 01:00:00  TERMOZIPA          2      33000   ZPA2  2024   \n",
       "2      NaN 2024-07-10 02:00:00  TERMOZIPA          2      33000   ZPA2  2024   \n",
       "3      NaN 2024-07-10 03:00:00  TERMOZIPA          2      33000   ZPA2  2024   \n",
       "4      NaN 2024-07-10 04:00:00  TERMOZIPA          2      20834   ZPA2  2024   \n",
       "\n",
       "   mes  dia  hora  \n",
       "0    7   10     0  \n",
       "1    7   10     1  \n",
       "2    7   10     2  \n",
       "3    7   10     3  \n",
       "4    7   10     4  "
      ]
     },
     "execution_count": 68,
     "metadata": {},
     "output_type": "execute_result"
    }
   ],
   "source": [
    "# Seleccionar y renombrar las columnas en el DataFrame original\n",
    "columnas = [\"useless\", \"fecha\", \"planta\", \"generador\", \"capacidad\", \"codigo\"]\n",
    "ArchivoCapacidad.columns = columnas\n",
    "\n",
    "# Extraemos las columnas el año, mes, día y hora \n",
    "ArchivoCapacidad['anio'] = ArchivoCapacidad['fecha'].dt.year\n",
    "ArchivoCapacidad['mes'] = ArchivoCapacidad['fecha'].dt.month\n",
    "ArchivoCapacidad['dia'] = ArchivoCapacidad['fecha'].dt.day\n",
    "ArchivoCapacidad['hora'] = ArchivoCapacidad['fecha'].dt.hour\n",
    "\n",
    "# Muestra el DataFrame ArchivoCapacidad\n",
    "ArchivoCapacidad.head()"
   ]
  },
  {
   "cell_type": "code",
   "execution_count": 69,
   "id": "16b244a9-8aa2-4dcc-af32-5fbb572209bc",
   "metadata": {},
   "outputs": [
    {
     "data": {
      "text/html": [
       "<div>\n",
       "<style scoped>\n",
       "    .dataframe tbody tr th:only-of-type {\n",
       "        vertical-align: middle;\n",
       "    }\n",
       "\n",
       "    .dataframe tbody tr th {\n",
       "        vertical-align: top;\n",
       "    }\n",
       "\n",
       "    .dataframe thead th {\n",
       "        text-align: right;\n",
       "    }\n",
       "</style>\n",
       "<table border=\"1\" class=\"dataframe\">\n",
       "  <thead>\n",
       "    <tr style=\"text-align: right;\">\n",
       "      <th></th>\n",
       "      <th>codigo</th>\n",
       "      <th>anio</th>\n",
       "      <th>mes</th>\n",
       "      <th>dia</th>\n",
       "      <th>hora</th>\n",
       "      <th>capacidad</th>\n",
       "    </tr>\n",
       "  </thead>\n",
       "  <tbody>\n",
       "    <tr>\n",
       "      <th>0</th>\n",
       "      <td>ZPA2</td>\n",
       "      <td>2024</td>\n",
       "      <td>7</td>\n",
       "      <td>10</td>\n",
       "      <td>0</td>\n",
       "      <td>33000</td>\n",
       "    </tr>\n",
       "    <tr>\n",
       "      <th>1</th>\n",
       "      <td>ZPA2</td>\n",
       "      <td>2024</td>\n",
       "      <td>7</td>\n",
       "      <td>10</td>\n",
       "      <td>1</td>\n",
       "      <td>33000</td>\n",
       "    </tr>\n",
       "    <tr>\n",
       "      <th>2</th>\n",
       "      <td>ZPA2</td>\n",
       "      <td>2024</td>\n",
       "      <td>7</td>\n",
       "      <td>10</td>\n",
       "      <td>2</td>\n",
       "      <td>33000</td>\n",
       "    </tr>\n",
       "    <tr>\n",
       "      <th>3</th>\n",
       "      <td>ZPA2</td>\n",
       "      <td>2024</td>\n",
       "      <td>7</td>\n",
       "      <td>10</td>\n",
       "      <td>3</td>\n",
       "      <td>33000</td>\n",
       "    </tr>\n",
       "    <tr>\n",
       "      <th>4</th>\n",
       "      <td>ZPA2</td>\n",
       "      <td>2024</td>\n",
       "      <td>7</td>\n",
       "      <td>10</td>\n",
       "      <td>4</td>\n",
       "      <td>20834</td>\n",
       "    </tr>\n",
       "  </tbody>\n",
       "</table>\n",
       "</div>"
      ],
      "text/plain": [
       "  codigo  anio  mes  dia  hora  capacidad\n",
       "0   ZPA2  2024    7   10     0      33000\n",
       "1   ZPA2  2024    7   10     1      33000\n",
       "2   ZPA2  2024    7   10     2      33000\n",
       "3   ZPA2  2024    7   10     3      33000\n",
       "4   ZPA2  2024    7   10     4      20834"
      ]
     },
     "execution_count": 69,
     "metadata": {},
     "output_type": "execute_result"
    }
   ],
   "source": [
    "# Seleccionamos las columnas que necesitamos para el calculo\n",
    "ArchivoCapacidad = ArchivoCapacidad[['codigo', 'anio','mes', 'dia', 'hora', 'capacidad']]\n",
    "\n",
    "# Muestra el DataFrame ArchivoCapacidad\n",
    "ArchivoCapacidad.head()"
   ]
  },
  {
   "cell_type": "markdown",
   "id": "b08ebbd3-6ada-431f-ab46-a3b0805a9577",
   "metadata": {},
   "source": [
    "### D. CÁLCULO DEL BALANCE DE ENERGÍA"
   ]
  },
  {
   "cell_type": "markdown",
   "id": "af3216da-bcf2-4341-a4eb-1e472e434e66",
   "metadata": {},
   "source": [
    "Ya tenemos dos dataframes, uno con los datos del despacho que vienen del ente regulador **df_Despachos_Acme** y otro con los datos de excel **ArchivoCapacidad**, en esta sección restamos el despacho programado, de nuestra capacidad por hora, y luego realizamos una sumatoria para sacar el **balance consolidado de energía**."
   ]
  },
  {
   "cell_type": "markdown",
   "id": "fbb71f97-c931-46d0-8e9c-73b9759afffd",
   "metadata": {},
   "source": [
    "### (T) Transformación"
   ]
  },
  {
   "cell_type": "code",
   "execution_count": 70,
   "id": "24cbe812-33a9-4f30-ba19-54a84b0e8ed8",
   "metadata": {},
   "outputs": [
    {
     "data": {
      "text/html": [
       "<div>\n",
       "<style scoped>\n",
       "    .dataframe tbody tr th:only-of-type {\n",
       "        vertical-align: middle;\n",
       "    }\n",
       "\n",
       "    .dataframe tbody tr th {\n",
       "        vertical-align: top;\n",
       "    }\n",
       "\n",
       "    .dataframe thead th {\n",
       "        text-align: right;\n",
       "    }\n",
       "</style>\n",
       "<table border=\"1\" class=\"dataframe\">\n",
       "  <thead>\n",
       "    <tr style=\"text-align: right;\">\n",
       "      <th></th>\n",
       "      <th>codigo</th>\n",
       "      <th>anio</th>\n",
       "      <th>mes</th>\n",
       "      <th>dia</th>\n",
       "      <th>hora</th>\n",
       "      <th>capacidad_x</th>\n",
       "      <th>anio_despacho</th>\n",
       "      <th>mes_despacho</th>\n",
       "      <th>dia_despacho</th>\n",
       "      <th>hora_despacho</th>\n",
       "      <th>capacidad_y</th>\n",
       "    </tr>\n",
       "  </thead>\n",
       "  <tbody>\n",
       "    <tr>\n",
       "      <th>0</th>\n",
       "      <td>ZPA2</td>\n",
       "      <td>2024</td>\n",
       "      <td>7</td>\n",
       "      <td>10</td>\n",
       "      <td>0</td>\n",
       "      <td>33000</td>\n",
       "      <td>2024</td>\n",
       "      <td>7</td>\n",
       "      <td>10</td>\n",
       "      <td>0</td>\n",
       "      <td>17000</td>\n",
       "    </tr>\n",
       "    <tr>\n",
       "      <th>1</th>\n",
       "      <td>ZPA2</td>\n",
       "      <td>2024</td>\n",
       "      <td>7</td>\n",
       "      <td>10</td>\n",
       "      <td>1</td>\n",
       "      <td>33000</td>\n",
       "      <td>2024</td>\n",
       "      <td>7</td>\n",
       "      <td>10</td>\n",
       "      <td>1</td>\n",
       "      <td>17000</td>\n",
       "    </tr>\n",
       "    <tr>\n",
       "      <th>2</th>\n",
       "      <td>ZPA2</td>\n",
       "      <td>2024</td>\n",
       "      <td>7</td>\n",
       "      <td>10</td>\n",
       "      <td>2</td>\n",
       "      <td>33000</td>\n",
       "      <td>2024</td>\n",
       "      <td>7</td>\n",
       "      <td>10</td>\n",
       "      <td>2</td>\n",
       "      <td>17000</td>\n",
       "    </tr>\n",
       "    <tr>\n",
       "      <th>3</th>\n",
       "      <td>ZPA2</td>\n",
       "      <td>2024</td>\n",
       "      <td>7</td>\n",
       "      <td>10</td>\n",
       "      <td>3</td>\n",
       "      <td>33000</td>\n",
       "      <td>2024</td>\n",
       "      <td>7</td>\n",
       "      <td>10</td>\n",
       "      <td>3</td>\n",
       "      <td>17000</td>\n",
       "    </tr>\n",
       "    <tr>\n",
       "      <th>4</th>\n",
       "      <td>ZPA2</td>\n",
       "      <td>2024</td>\n",
       "      <td>7</td>\n",
       "      <td>10</td>\n",
       "      <td>4</td>\n",
       "      <td>20834</td>\n",
       "      <td>2024</td>\n",
       "      <td>7</td>\n",
       "      <td>10</td>\n",
       "      <td>4</td>\n",
       "      <td>17000</td>\n",
       "    </tr>\n",
       "  </tbody>\n",
       "</table>\n",
       "</div>"
      ],
      "text/plain": [
       "  codigo  anio  mes  dia  hora  capacidad_x  anio_despacho  mes_despacho  \\\n",
       "0   ZPA2  2024    7   10     0        33000           2024             7   \n",
       "1   ZPA2  2024    7   10     1        33000           2024             7   \n",
       "2   ZPA2  2024    7   10     2        33000           2024             7   \n",
       "3   ZPA2  2024    7   10     3        33000           2024             7   \n",
       "4   ZPA2  2024    7   10     4        20834           2024             7   \n",
       "\n",
       "   dia_despacho  hora_despacho  capacidad_y  \n",
       "0            10              0        17000  \n",
       "1            10              1        17000  \n",
       "2            10              2        17000  \n",
       "3            10              3        17000  \n",
       "4            10              4        17000  "
      ]
     },
     "execution_count": 70,
     "metadata": {},
     "output_type": "execute_result"
    }
   ],
   "source": [
    "# (T) Cálculo del balance de energía.\n",
    "# Realizamos el join entre ambos DataFrames\n",
    "df_balance_horario = pd.merge(\n",
    "    ArchivoCapacidad,\n",
    "    df_Despachos_Acme,\n",
    "    left_on=['codigo', 'anio', 'mes', 'dia', 'hora'],\n",
    "    right_on=['codigo', 'anio_despacho', 'mes_despacho', 'dia_despacho', 'hora_despacho'],\n",
    "    how='inner'\n",
    ")\n",
    "\n",
    "# Mostramos el dataset obtenido del Join\n",
    "df_balance_horario.head()"
   ]
  },
  {
   "cell_type": "code",
   "execution_count": 45,
   "id": "b3e4b8eb-c825-48da-8497-aa1e6bf828f3",
   "metadata": {},
   "outputs": [
    {
     "data": {
      "text/plain": [
       "0    16000\n",
       "1    16000\n",
       "2    16000\n",
       "3    16000\n",
       "4     3834\n",
       "Name: balance_disponible_horario, dtype: int64"
      ]
     },
     "execution_count": 45,
     "metadata": {},
     "output_type": "execute_result"
    }
   ],
   "source": [
    "# Calculamos el balance disponible horario\n",
    "df_balance_horario['balance_disponible_horario'] = df_balance_horario['capacidad_x'] - df_balance_horario['capacidad_y']\n",
    "\n",
    "# Mostramos los valores obtenidos del balance\n",
    "df_balance_horario['balance_disponible_horario'].head()"
   ]
  },
  {
   "cell_type": "code",
   "execution_count": 46,
   "id": "3b3757f4-3deb-452c-92e6-a9a921283084",
   "metadata": {},
   "outputs": [
    {
     "data": {
      "text/html": [
       "<div>\n",
       "<style scoped>\n",
       "    .dataframe tbody tr th:only-of-type {\n",
       "        vertical-align: middle;\n",
       "    }\n",
       "\n",
       "    .dataframe tbody tr th {\n",
       "        vertical-align: top;\n",
       "    }\n",
       "\n",
       "    .dataframe thead th {\n",
       "        text-align: right;\n",
       "    }\n",
       "</style>\n",
       "<table border=\"1\" class=\"dataframe\">\n",
       "  <thead>\n",
       "    <tr style=\"text-align: right;\">\n",
       "      <th></th>\n",
       "      <th>anio</th>\n",
       "      <th>mes</th>\n",
       "      <th>dia</th>\n",
       "      <th>codigo</th>\n",
       "      <th>balance_disponible_horario</th>\n",
       "    </tr>\n",
       "  </thead>\n",
       "  <tbody>\n",
       "    <tr>\n",
       "      <th>0</th>\n",
       "      <td>2024</td>\n",
       "      <td>7</td>\n",
       "      <td>10</td>\n",
       "      <td>GVIO</td>\n",
       "      <td>11506280</td>\n",
       "    </tr>\n",
       "    <tr>\n",
       "      <th>1</th>\n",
       "      <td>2024</td>\n",
       "      <td>7</td>\n",
       "      <td>10</td>\n",
       "      <td>QUI1</td>\n",
       "      <td>3607414</td>\n",
       "    </tr>\n",
       "    <tr>\n",
       "      <th>2</th>\n",
       "      <td>2024</td>\n",
       "      <td>7</td>\n",
       "      <td>10</td>\n",
       "      <td>ZPA2</td>\n",
       "      <td>201706</td>\n",
       "    </tr>\n",
       "    <tr>\n",
       "      <th>3</th>\n",
       "      <td>2024</td>\n",
       "      <td>7</td>\n",
       "      <td>10</td>\n",
       "      <td>ZPA3</td>\n",
       "      <td>-280652</td>\n",
       "    </tr>\n",
       "    <tr>\n",
       "      <th>4</th>\n",
       "      <td>2024</td>\n",
       "      <td>7</td>\n",
       "      <td>10</td>\n",
       "      <td>ZPA4</td>\n",
       "      <td>-203312</td>\n",
       "    </tr>\n",
       "  </tbody>\n",
       "</table>\n",
       "</div>"
      ],
      "text/plain": [
       "   anio  mes  dia codigo  balance_disponible_horario\n",
       "0  2024    7   10   GVIO                    11506280\n",
       "1  2024    7   10   QUI1                     3607414\n",
       "2  2024    7   10   ZPA2                      201706\n",
       "3  2024    7   10   ZPA3                     -280652\n",
       "4  2024    7   10   ZPA4                     -203312"
      ]
     },
     "execution_count": 46,
     "metadata": {},
     "output_type": "execute_result"
    }
   ],
   "source": [
    "# Agrupamos por anio, mes, dia, y codigo para sumar los balances disponibles horarios\n",
    "df_balance_consolidado = df_balance_horario.groupby(['anio', 'mes', 'dia', 'codigo']).agg({\n",
    "    'balance_disponible_horario': 'sum'\n",
    "}).reset_index()\n",
    "\n",
    "# Mostramos el DataFrame balance_consolidado\n",
    "df_balance_consolidado.head()"
   ]
  },
  {
   "cell_type": "code",
   "execution_count": 47,
   "id": "8723a31c-996f-4a80-a1e2-7e6f9b59827a",
   "metadata": {},
   "outputs": [
    {
     "name": "stdout",
     "output_type": "stream",
     "text": [
      "   anio  mes  dia codigo  consolidado_planta\n",
      "0  2024    7   10   GVIO            11506280\n",
      "1  2024    7   10   QUI1             3607414\n",
      "2  2024    7   10   ZPA2              201706\n",
      "3  2024    7   10   ZPA3             -280652\n",
      "4  2024    7   10   ZPA4             -203312\n"
     ]
    }
   ],
   "source": [
    "# Renombramos la columna agregada\n",
    "df_balance_consolidado = df_balance_consolidado.rename(columns={'balance_disponible_horario': 'consolidado_planta'})\n",
    "\n",
    "# Mostramos el DataFrame balance_consolidado\n",
    "print(df_balance_consolidado.head())"
   ]
  },
  {
   "cell_type": "markdown",
   "id": "053ec227-40ef-4742-8356-9ee6f659ce29",
   "metadata": {},
   "source": [
    "Ahora con el precio de la bolsa que está en la tabla **Precios Bolsa** vamos a **multiplicar** de la capacidad en el **Balance Consolidado** que acabamos de calcular y eso nos dará el valor de la energía en miles de millones de pesos."
   ]
  },
  {
   "cell_type": "code",
   "execution_count": 71,
   "id": "1251b923-eb2b-49bc-a5e8-9a1917f84005",
   "metadata": {},
   "outputs": [
    {
     "data": {
      "text/html": [
       "<div>\n",
       "<style scoped>\n",
       "    .dataframe tbody tr th:only-of-type {\n",
       "        vertical-align: middle;\n",
       "    }\n",
       "\n",
       "    .dataframe tbody tr th {\n",
       "        vertical-align: top;\n",
       "    }\n",
       "\n",
       "    .dataframe thead th {\n",
       "        text-align: right;\n",
       "    }\n",
       "</style>\n",
       "<table border=\"1\" class=\"dataframe\">\n",
       "  <thead>\n",
       "    <tr style=\"text-align: right;\">\n",
       "      <th></th>\n",
       "      <th>CodigoVariable</th>\n",
       "      <th>Fecha</th>\n",
       "      <th>CodigoDuracion</th>\n",
       "      <th>UnidadMedida</th>\n",
       "      <th>Version</th>\n",
       "      <th>Valor</th>\n",
       "    </tr>\n",
       "  </thead>\n",
       "  <tbody>\n",
       "    <tr>\n",
       "      <th>5</th>\n",
       "      <td>PPBOGReal</td>\n",
       "      <td>2024-07-10</td>\n",
       "      <td>P1D</td>\n",
       "      <td>COP/kWh</td>\n",
       "      <td>TXR</td>\n",
       "      <td>219.7562</td>\n",
       "    </tr>\n",
       "  </tbody>\n",
       "</table>\n",
       "</div>"
      ],
      "text/plain": [
       "  CodigoVariable       Fecha CodigoDuracion UnidadMedida Version     Valor\n",
       "5      PPBOGReal  2024-07-10            P1D      COP/kWh     TXR  219.7562"
      ]
     },
     "execution_count": 71,
     "metadata": {},
     "output_type": "execute_result"
    }
   ],
   "source": [
    "# Filtrar PreciosBolsa con codigo = PPBOGReal y version = TXR\n",
    "df_precios_filtrados = dfPreciosBolsa[\n",
    "    (dfPreciosBolsa['CodigoVariable'] == 'PPBOGReal') & \n",
    "    (dfPreciosBolsa['Version'] == 'TXR')\n",
    "]\n",
    "\n",
    "df_precios_filtrados.head()"
   ]
  },
  {
   "cell_type": "code",
   "execution_count": 73,
   "id": "fd255a6a-0606-4240-a0ff-e8c83df6f716",
   "metadata": {},
   "outputs": [
    {
     "data": {
      "text/html": [
       "<div>\n",
       "<style scoped>\n",
       "    .dataframe tbody tr th:only-of-type {\n",
       "        vertical-align: middle;\n",
       "    }\n",
       "\n",
       "    .dataframe tbody tr th {\n",
       "        vertical-align: top;\n",
       "    }\n",
       "\n",
       "    .dataframe thead th {\n",
       "        text-align: right;\n",
       "    }\n",
       "</style>\n",
       "<table border=\"1\" class=\"dataframe\">\n",
       "  <thead>\n",
       "    <tr style=\"text-align: right;\">\n",
       "      <th></th>\n",
       "      <th>CodigoVariable</th>\n",
       "      <th>Fecha</th>\n",
       "      <th>CodigoDuracion</th>\n",
       "      <th>UnidadMedida</th>\n",
       "      <th>Version</th>\n",
       "      <th>Valor</th>\n",
       "      <th>dia</th>\n",
       "      <th>mes</th>\n",
       "      <th>anio</th>\n",
       "    </tr>\n",
       "  </thead>\n",
       "  <tbody>\n",
       "    <tr>\n",
       "      <th>5</th>\n",
       "      <td>PPBOGReal</td>\n",
       "      <td>2024-07-10</td>\n",
       "      <td>P1D</td>\n",
       "      <td>COP/kWh</td>\n",
       "      <td>TXR</td>\n",
       "      <td>219.7562</td>\n",
       "      <td>10</td>\n",
       "      <td>7</td>\n",
       "      <td>2024</td>\n",
       "    </tr>\n",
       "  </tbody>\n",
       "</table>\n",
       "</div>"
      ],
      "text/plain": [
       "  CodigoVariable      Fecha CodigoDuracion UnidadMedida Version     Valor  \\\n",
       "5      PPBOGReal 2024-07-10            P1D      COP/kWh     TXR  219.7562   \n",
       "\n",
       "   dia  mes  anio  \n",
       "5   10    7  2024  "
      ]
     },
     "execution_count": 73,
     "metadata": {},
     "output_type": "execute_result"
    }
   ],
   "source": [
    "# Crear una copia explícita del DataFrame filtrado\n",
    "df_precios_filtrados = df_precios_filtrados.copy()\n",
    "\n",
    "# Convertir la columna 'Fecha' a datetime\n",
    "df_precios_filtrados['Fecha'] = pd.to_datetime(df_precios_filtrados['Fecha'], errors='coerce')\n",
    "\n",
    "# Extraer componentes de fecha utilizando .loc para evitar advertencias\n",
    "df_precios_filtrados.loc[:, 'dia'] = df_precios_filtrados['Fecha'].dt.day\n",
    "df_precios_filtrados.loc[:, 'mes'] = df_precios_filtrados['Fecha'].dt.month\n",
    "df_precios_filtrados.loc[:, 'anio'] = df_precios_filtrados['Fecha'].dt.year\n",
    "\n",
    "df_precios_filtrados.head()"
   ]
  },
  {
   "cell_type": "code",
   "execution_count": 74,
   "id": "df8f2da4-80de-46c6-b0a9-68bccc8d5a8c",
   "metadata": {},
   "outputs": [
    {
     "data": {
      "text/html": [
       "<div>\n",
       "<style scoped>\n",
       "    .dataframe tbody tr th:only-of-type {\n",
       "        vertical-align: middle;\n",
       "    }\n",
       "\n",
       "    .dataframe tbody tr th {\n",
       "        vertical-align: top;\n",
       "    }\n",
       "\n",
       "    .dataframe thead th {\n",
       "        text-align: right;\n",
       "    }\n",
       "</style>\n",
       "<table border=\"1\" class=\"dataframe\">\n",
       "  <thead>\n",
       "    <tr style=\"text-align: right;\">\n",
       "      <th></th>\n",
       "      <th>dia</th>\n",
       "      <th>mes</th>\n",
       "      <th>anio</th>\n",
       "      <th>Valor</th>\n",
       "    </tr>\n",
       "  </thead>\n",
       "  <tbody>\n",
       "    <tr>\n",
       "      <th>5</th>\n",
       "      <td>10</td>\n",
       "      <td>7</td>\n",
       "      <td>2024</td>\n",
       "      <td>219.7562</td>\n",
       "    </tr>\n",
       "  </tbody>\n",
       "</table>\n",
       "</div>"
      ],
      "text/plain": [
       "   dia  mes  anio     Valor\n",
       "5   10    7  2024  219.7562"
      ]
     },
     "execution_count": 74,
     "metadata": {},
     "output_type": "execute_result"
    }
   ],
   "source": [
    "# Seleccionamos las columnas que necesitamos para realizar el calculo\n",
    "df_precios_seleccionado = df_precios_filtrados[['dia', 'mes', 'anio', 'Valor']]\n",
    "\n",
    "df_precios_seleccionado.head()"
   ]
  },
  {
   "cell_type": "code",
   "execution_count": 75,
   "id": "dfa1aee4-a088-45e7-bbf8-3a8e628d6308",
   "metadata": {},
   "outputs": [
    {
     "data": {
      "text/html": [
       "<div>\n",
       "<style scoped>\n",
       "    .dataframe tbody tr th:only-of-type {\n",
       "        vertical-align: middle;\n",
       "    }\n",
       "\n",
       "    .dataframe tbody tr th {\n",
       "        vertical-align: top;\n",
       "    }\n",
       "\n",
       "    .dataframe thead th {\n",
       "        text-align: right;\n",
       "    }\n",
       "</style>\n",
       "<table border=\"1\" class=\"dataframe\">\n",
       "  <thead>\n",
       "    <tr style=\"text-align: right;\">\n",
       "      <th></th>\n",
       "      <th>anio</th>\n",
       "      <th>mes</th>\n",
       "      <th>dia</th>\n",
       "      <th>codigo</th>\n",
       "      <th>consolidado_planta</th>\n",
       "      <th>Valor</th>\n",
       "    </tr>\n",
       "  </thead>\n",
       "  <tbody>\n",
       "    <tr>\n",
       "      <th>0</th>\n",
       "      <td>2024</td>\n",
       "      <td>7</td>\n",
       "      <td>10</td>\n",
       "      <td>GVIO</td>\n",
       "      <td>11506280</td>\n",
       "      <td>219.7562</td>\n",
       "    </tr>\n",
       "    <tr>\n",
       "      <th>1</th>\n",
       "      <td>2024</td>\n",
       "      <td>7</td>\n",
       "      <td>10</td>\n",
       "      <td>QUI1</td>\n",
       "      <td>3607414</td>\n",
       "      <td>219.7562</td>\n",
       "    </tr>\n",
       "    <tr>\n",
       "      <th>2</th>\n",
       "      <td>2024</td>\n",
       "      <td>7</td>\n",
       "      <td>10</td>\n",
       "      <td>ZPA2</td>\n",
       "      <td>201706</td>\n",
       "      <td>219.7562</td>\n",
       "    </tr>\n",
       "    <tr>\n",
       "      <th>3</th>\n",
       "      <td>2024</td>\n",
       "      <td>7</td>\n",
       "      <td>10</td>\n",
       "      <td>ZPA3</td>\n",
       "      <td>-280652</td>\n",
       "      <td>219.7562</td>\n",
       "    </tr>\n",
       "    <tr>\n",
       "      <th>4</th>\n",
       "      <td>2024</td>\n",
       "      <td>7</td>\n",
       "      <td>10</td>\n",
       "      <td>ZPA4</td>\n",
       "      <td>-203312</td>\n",
       "      <td>219.7562</td>\n",
       "    </tr>\n",
       "  </tbody>\n",
       "</table>\n",
       "</div>"
      ],
      "text/plain": [
       "   anio  mes  dia codigo  consolidado_planta     Valor\n",
       "0  2024    7   10   GVIO            11506280  219.7562\n",
       "1  2024    7   10   QUI1             3607414  219.7562\n",
       "2  2024    7   10   ZPA2              201706  219.7562\n",
       "3  2024    7   10   ZPA3             -280652  219.7562\n",
       "4  2024    7   10   ZPA4             -203312  219.7562"
      ]
     },
     "execution_count": 75,
     "metadata": {},
     "output_type": "execute_result"
    }
   ],
   "source": [
    "# Realizar el merge (equivalente al JOIN en SQL)\n",
    "df_balances_compras_ventas = pd.merge(\n",
    "    df_balance_consolidado,\n",
    "    df_precios_seleccionado,\n",
    "    how='inner',  # Usa 'inner' para replicar el JOIN\n",
    "    on=['dia', 'mes', 'anio']\n",
    ")\n",
    "\n",
    "df_balances_compras_ventas.head()"
   ]
  },
  {
   "cell_type": "code",
   "execution_count": 76,
   "id": "4ba8b476-686a-4b4b-9512-c82cb5d9451a",
   "metadata": {},
   "outputs": [
    {
     "data": {
      "text/plain": [
       "0    2528.576369\n",
       "1     792.751592\n",
       "2      44.326144\n",
       "3     -61.675017\n",
       "4     -44.679073\n",
       "Name: Compromisos_MCOP ($ MM), dtype: float64"
      ]
     },
     "execution_count": 76,
     "metadata": {},
     "output_type": "execute_result"
    }
   ],
   "source": [
    "# Calcular la columna Compromisos_MCOP\n",
    "df_balances_compras_ventas['Compromisos_MCOP ($ MM)'] = (\n",
    "    df_balances_compras_ventas['consolidado_planta'] * df_balances_compras_ventas['Valor']\n",
    ") / 1000000\n",
    "\n",
    "df_balances_compras_ventas['Compromisos_MCOP ($ MM)'].head()"
   ]
  },
  {
   "cell_type": "code",
   "execution_count": 77,
   "id": "74755f37-b53d-4554-b488-74a643599ead",
   "metadata": {},
   "outputs": [
    {
     "data": {
      "text/html": [
       "<div>\n",
       "<style scoped>\n",
       "    .dataframe tbody tr th:only-of-type {\n",
       "        vertical-align: middle;\n",
       "    }\n",
       "\n",
       "    .dataframe tbody tr th {\n",
       "        vertical-align: top;\n",
       "    }\n",
       "\n",
       "    .dataframe thead th {\n",
       "        text-align: right;\n",
       "    }\n",
       "</style>\n",
       "<table border=\"1\" class=\"dataframe\">\n",
       "  <thead>\n",
       "    <tr style=\"text-align: right;\">\n",
       "      <th></th>\n",
       "      <th>anio</th>\n",
       "      <th>mes</th>\n",
       "      <th>dia</th>\n",
       "      <th>codigo</th>\n",
       "      <th>consolidado_planta</th>\n",
       "      <th>Compromisos_MCOP ($ MM)</th>\n",
       "      <th>Operacion</th>\n",
       "    </tr>\n",
       "  </thead>\n",
       "  <tbody>\n",
       "    <tr>\n",
       "      <th>0</th>\n",
       "      <td>2024</td>\n",
       "      <td>7</td>\n",
       "      <td>10</td>\n",
       "      <td>GVIO</td>\n",
       "      <td>11506280</td>\n",
       "      <td>2528.576369</td>\n",
       "      <td>Vender</td>\n",
       "    </tr>\n",
       "    <tr>\n",
       "      <th>1</th>\n",
       "      <td>2024</td>\n",
       "      <td>7</td>\n",
       "      <td>10</td>\n",
       "      <td>QUI1</td>\n",
       "      <td>3607414</td>\n",
       "      <td>792.751592</td>\n",
       "      <td>Vender</td>\n",
       "    </tr>\n",
       "    <tr>\n",
       "      <th>2</th>\n",
       "      <td>2024</td>\n",
       "      <td>7</td>\n",
       "      <td>10</td>\n",
       "      <td>ZPA2</td>\n",
       "      <td>201706</td>\n",
       "      <td>44.326144</td>\n",
       "      <td>Vender</td>\n",
       "    </tr>\n",
       "    <tr>\n",
       "      <th>3</th>\n",
       "      <td>2024</td>\n",
       "      <td>7</td>\n",
       "      <td>10</td>\n",
       "      <td>ZPA3</td>\n",
       "      <td>-280652</td>\n",
       "      <td>-61.675017</td>\n",
       "      <td>Comprar</td>\n",
       "    </tr>\n",
       "    <tr>\n",
       "      <th>4</th>\n",
       "      <td>2024</td>\n",
       "      <td>7</td>\n",
       "      <td>10</td>\n",
       "      <td>ZPA4</td>\n",
       "      <td>-203312</td>\n",
       "      <td>-44.679073</td>\n",
       "      <td>Comprar</td>\n",
       "    </tr>\n",
       "  </tbody>\n",
       "</table>\n",
       "</div>"
      ],
      "text/plain": [
       "   anio  mes  dia codigo  consolidado_planta  Compromisos_MCOP ($ MM)  \\\n",
       "0  2024    7   10   GVIO            11506280              2528.576369   \n",
       "1  2024    7   10   QUI1             3607414               792.751592   \n",
       "2  2024    7   10   ZPA2              201706                44.326144   \n",
       "3  2024    7   10   ZPA3             -280652               -61.675017   \n",
       "4  2024    7   10   ZPA4             -203312               -44.679073   \n",
       "\n",
       "  Operacion  \n",
       "0    Vender  \n",
       "1    Vender  \n",
       "2    Vender  \n",
       "3   Comprar  \n",
       "4   Comprar  "
      ]
     },
     "execution_count": 77,
     "metadata": {},
     "output_type": "execute_result"
    }
   ],
   "source": [
    "# Seleccionar las columnas finales\n",
    "dfReporteCompraVentaEnergiaAcme = df_balances_compras_ventas[\n",
    "    ['anio', 'mes', 'dia', 'codigo', 'consolidado_planta', 'Compromisos_MCOP ($ MM)']\n",
    "]\n",
    "\n",
    "# Crear la columna Operacion basada en la condición\n",
    "dfReporteCompraVentaEnergiaAcme['Operacion'] = np.where(\n",
    "    dfReporteCompraVentaEnergiaAcme['Compromisos_MCOP ($ MM)'] < 0,\n",
    "    \"Comprar\",\n",
    "    \"Vender\"\n",
    ")\n",
    "\n",
    "dfReporteCompraVentaEnergiaAcme.head()"
   ]
  },
  {
   "cell_type": "markdown",
   "id": "8ccf2ae3-1177-4fb6-abd2-d81273292835",
   "metadata": {},
   "source": [
    "### E. TRANSFERENCIA DEL ARCHIVO"
   ]
  },
  {
   "cell_type": "markdown",
   "id": "2346bcae-e016-4855-b5f5-5d8f1c1de8db",
   "metadata": {},
   "source": [
    "Ahora tomamos el resultado de las compras y ventas de energía y lo transferimos al destino para que lo cargue el usuario final. Vamos a simular la carga del archivo a un servicio de transferencia de archivos llamado https://fastupload.io\n",
    "Vamos a **obtener el CSV**, para ello vamos a usar python para **validar si nuestro archivo es un CSV y si es, lo copiamos** a una ruta que podamos acceder.\n"
   ]
  },
  {
   "cell_type": "code",
   "execution_count": 78,
   "id": "a4cadebc-0958-4252-bb83-6544612ef17e",
   "metadata": {},
   "outputs": [
    {
     "name": "stdout",
     "output_type": "stream",
     "text": [
      "--------------------------------------------------------\n",
      "Archivo guardado en: dfReporteCompraVentaEnergiaAcme.csv\n",
      "--------------------------------------------------------\n"
     ]
    }
   ],
   "source": [
    "# Guardar el DataFrame en un archivo CSV\n",
    "local_csv_path = \"dfReporteCompraVentaEnergiaAcme.csv\"\n",
    "dfReporteCompraVentaEnergiaAcme.to_csv(local_csv_path, index=False, header=True)\n",
    "\n",
    "# Verificar si el archivo se ha guardado correctamente\n",
    "if os.path.exists(local_csv_path):\n",
    "    print(\"--------------------------------------------------------\")\n",
    "    print(f\"Archivo guardado en: {local_csv_path}\")\n",
    "    print(\"--------------------------------------------------------\")\n",
    "else:\n",
    "    print(\"------------------------------\")\n",
    "    print(\"No se pudo guardar el archivo.\")\n",
    "    print(\"------------------------------\")"
   ]
  },
  {
   "cell_type": "markdown",
   "id": "25522a42-c669-4d8b-be89-bbf8a1d7d475",
   "metadata": {},
   "source": [
    "## *(L)* Autenticación en el sitio remoto del ente regulador\n",
    "\n",
    "Para poder **cargar archivos**, hay que **iniciar sesión** en la plataforma, para ello se utiliza un API, https://fastupload.io/api#authorize , en el api, la plataforma iniciará sesión y obtendrá un token (secuencia de texto y números) que nos permitirá subir el archivo."
   ]
  },
  {
   "cell_type": "code",
   "execution_count": 79,
   "id": "55c0d272-d80e-48d0-9dfa-0bc83ccdfc33",
   "metadata": {},
   "outputs": [
    {
     "name": "stdout",
     "output_type": "stream",
     "text": [
      "Respuesta de la Solicitud <Response [200]>\n"
     ]
    }
   ],
   "source": [
    "# Autenticación en el sitio remoto del ente regulador\n",
    "\n",
    "# Variables de autenticación\n",
    "file_upload_access_token = \"\"\n",
    "file_upload_account_id = \"\"\n",
    "\n",
    "# Parámetros de la solicitud\n",
    "params = {'key1': api_key_1, 'key2': api_key_2}\n",
    "\n",
    "# Realizar la solicitud GET a la API\n",
    "response = requests.get(\"https://fastupload.io/api/v2/authorize\", params=params)\n",
    "\n",
    "print(\"Respuesta de la Solicitud\", response)"
   ]
  },
  {
   "cell_type": "code",
   "execution_count": 80,
   "id": "d4289266-1efd-4a7a-b996-cf32a42bac1d",
   "metadata": {},
   "outputs": [
    {
     "name": "stdout",
     "output_type": "stream",
     "text": [
      "{'data': {'access_token': 'tF1w8C0TEqXyRUb2DtTlLT9QmqnxEUaDcgWer2uU0lOShePa6oK8Pgj3JTHiX1VFpP9CQjP016s6QWanFEKgMMsg89ba2pmFW3DX3KMx9ApInGX5LXkG4IW5lKE5nQnj', 'account_id': 67503}, '_status': 'success', '_datetime': '2024-09-06 23:48:21'}\n"
     ]
    }
   ],
   "source": [
    "# Parsear la respuesta JSON\n",
    "json_response = json.loads(response.text)\n",
    "\n",
    "print(json_response)"
   ]
  },
  {
   "cell_type": "code",
   "execution_count": 81,
   "id": "daee4189-9255-400c-a1b2-5f6161264baa",
   "metadata": {},
   "outputs": [],
   "source": [
    "# Manejar la respuesta y extraer los datos necesarios\n",
    "try:\n",
    "    file_upload_access_token = json_response[\"data\"][\"access_token\"]\n",
    "    file_upload_account_id = json_response[\"data\"][\"account_id\"]\n",
    "except KeyError:\n",
    "    print(\"Error autenticando y autorizando en el servicio remoto de carga de archivos.\")"
   ]
  },
  {
   "cell_type": "markdown",
   "id": "112763ca-c294-4951-8044-dc97134d5582",
   "metadata": {},
   "source": [
    "Así se ve un token de un API"
   ]
  },
  {
   "cell_type": "code",
   "execution_count": 82,
   "id": "544b258c-f658-4f19-adfd-d4e829a32f2a",
   "metadata": {},
   "outputs": [
    {
     "name": "stdout",
     "output_type": "stream",
     "text": [
      "tF1w8C0TEqXyRUb2DtTlLT9QmqnxEUaDcgWer2uU0lOShePa6oK8Pgj3JTHiX1VFpP9CQjP016s6QWanFEKgMMsg89ba2pmFW3DX3KMx9ApInGX5LXkG4IW5lKE5nQnj\n"
     ]
    }
   ],
   "source": [
    "print(file_upload_access_token)"
   ]
  },
  {
   "cell_type": "markdown",
   "id": "23e7791c-d4db-402f-8d71-45592cc5fa22",
   "metadata": {},
   "source": [
    "## *(L)* Ahora vamos a cargar el Archivo finalmente con el token\n",
    "\n",
    "Para ello usamos otra API https://fastupload.io/api#file-upload, la cual nos pide algunos parámetros, como el nombre del archivo, el token, la cuenta y el folder, al final, al imprimir la respuesta, veremos que el arhivo fue cargado \"File Uploaded\"."
   ]
  },
  {
   "cell_type": "code",
   "execution_count": 83,
   "id": "4ce12b2d-bf35-4139-b543-c07935d18355",
   "metadata": {},
   "outputs": [
    {
     "name": "stdout",
     "output_type": "stream",
     "text": [
      "{\"response\":\"File uploaded\",\"data\":[{\"name\":\"dfReporteCompraVentaEnergiaAcme (21).csv\",\"size\":363,\"type\":\"application\\/octet-stream\",\"error\":null,\"url\":\"https:\\/\\/fastupload.io\\/5fbea05bb17924af\",\"delete_url\":\"https:\\/\\/fastupload.io\\/5fbea05bb17924af~d?749ef886144ed6c8fcd94bacf1016420\",\"info_url\":\"https:\\/\\/fastupload.io\\/5fbea05bb17924af~i\",\"delete_type\":\"DELETE\",\"delete_hash\":\"749ef886144ed6c8fcd94bacf1016420\",\"hash\":\"4805f7fcb71d59d7de5e8c0e3e011c94\",\"stats_url\":\"https:\\/\\/fastupload.io\\/5fbea05bb17924af~s\",\"short_url\":\"5fbea05bb17924af\",\"file_id\":\"661617\",\"unique_hash\":\"557152e1b089e10c437ae07593aa43b8118524e0db92ec5a77f4fbbe9035cd76\",\"url_html\":\"&lt;a href=&quot;https:\\/\\/fastupload.io\\/5fbea05bb17924af&quot; target=&quot;_blank&quot; title=&quot;View image on Fastupload.io&quot;&gt;View dfReporteCompraVentaEnergiaAcme (21).csv on Fastupload.io&lt;\\/a&gt;\",\"url_bbcode\":\"[url]https:\\/\\/fastupload.io\\/5fbea05bb17924af[\\/url]\",\"success_result_html\":\"\"}],\"_status\":\"success\",\"_datetime\":\"2024-09-06 23:51:20\"}\n"
     ]
    }
   ],
   "source": [
    "# Variables necesarias\n",
    "upload_folder_id = \"\"\n",
    "json_response = \"\"\n",
    "\n",
    "# Ruta del archivo CSV que se subirá\n",
    "file_path = \"dfReporteCompraVentaEnergiaAcme.csv\"\n",
    "\n",
    "# Abrir el archivo en modo binario para su subida\n",
    "with open(file_path, \"rb\") as archivo:\n",
    "    files = {\"upload_file\": (archivo.name, archivo)}  # Crear un diccionario para la subida del archivo\n",
    "\n",
    "    # Datos adicionales que se envían en la solicitud\n",
    "    data = {\n",
    "        \"access_token\": file_upload_access_token,\n",
    "        \"account_id\": file_upload_account_id,\n",
    "        \"folder_id\": upload_folder_id  # Incluir folder_id si es necesario\n",
    "    }\n",
    "\n",
    "    # Realizar la solicitud POST para subir el archivo\n",
    "    response = requests.post(\"https://fastupload.io/api/v2/file/upload\", files=files, data=data)\n",
    "  \n",
    "# Imprimir la respuesta de la solicitud\n",
    "print(response.text)"
   ]
  },
  {
   "cell_type": "code",
   "execution_count": null,
   "id": "7b27d6e3-7204-4e6d-b93c-5ea10ac60cb4",
   "metadata": {},
   "outputs": [],
   "source": []
  }
 ],
 "metadata": {
  "kernelspec": {
   "display_name": "Python 3 (ipykernel)",
   "language": "python",
   "name": "python3"
  },
  "language_info": {
   "codemirror_mode": {
    "name": "ipython",
    "version": 3
   },
   "file_extension": ".py",
   "mimetype": "text/x-python",
   "name": "python",
   "nbconvert_exporter": "python",
   "pygments_lexer": "ipython3",
   "version": "3.9.12"
  }
 },
 "nbformat": 4,
 "nbformat_minor": 5
}
